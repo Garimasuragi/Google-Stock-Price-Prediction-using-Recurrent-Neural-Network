{
 "cells": [
  {
   "cell_type": "markdown",
   "id": "ac322bf6",
   "metadata": {},
   "source": [
    "## Google Stock Price Prediction using Recurrent Neural Network"
   ]
  },
  {
   "cell_type": "raw",
   "id": "38a8bebd",
   "metadata": {},
   "source": [
    "We have taken google stock price dataset. We will take days opening stock price and predict the ouput on that."
   ]
  },
  {
   "cell_type": "markdown",
   "id": "d89d2194",
   "metadata": {},
   "source": [
    "#### Part 1: Data Preprocessing"
   ]
  },
  {
   "cell_type": "code",
   "execution_count": 43,
   "id": "b029ca2c",
   "metadata": {},
   "outputs": [],
   "source": [
    "# import libraries\n",
    "import numpy as np\n",
    "import pandas as pd\n",
    "import matplotlib.pyplot as plt"
   ]
  },
  {
   "cell_type": "code",
   "execution_count": 44,
   "id": "d9d19b2a",
   "metadata": {},
   "outputs": [
    {
     "data": {
      "text/html": [
       "<div>\n",
       "<style scoped>\n",
       "    .dataframe tbody tr th:only-of-type {\n",
       "        vertical-align: middle;\n",
       "    }\n",
       "\n",
       "    .dataframe tbody tr th {\n",
       "        vertical-align: top;\n",
       "    }\n",
       "\n",
       "    .dataframe thead th {\n",
       "        text-align: right;\n",
       "    }\n",
       "</style>\n",
       "<table border=\"1\" class=\"dataframe\">\n",
       "  <thead>\n",
       "    <tr style=\"text-align: right;\">\n",
       "      <th></th>\n",
       "      <th>Date</th>\n",
       "      <th>Open</th>\n",
       "      <th>High</th>\n",
       "      <th>Low</th>\n",
       "      <th>Close</th>\n",
       "      <th>Volume</th>\n",
       "    </tr>\n",
       "  </thead>\n",
       "  <tbody>\n",
       "    <tr>\n",
       "      <th>0</th>\n",
       "      <td>1/3/2012</td>\n",
       "      <td>325.25</td>\n",
       "      <td>332.83</td>\n",
       "      <td>324.97</td>\n",
       "      <td>663.59</td>\n",
       "      <td>7,380,500</td>\n",
       "    </tr>\n",
       "    <tr>\n",
       "      <th>1</th>\n",
       "      <td>1/4/2012</td>\n",
       "      <td>331.27</td>\n",
       "      <td>333.87</td>\n",
       "      <td>329.08</td>\n",
       "      <td>666.45</td>\n",
       "      <td>5,749,400</td>\n",
       "    </tr>\n",
       "    <tr>\n",
       "      <th>2</th>\n",
       "      <td>1/5/2012</td>\n",
       "      <td>329.83</td>\n",
       "      <td>330.75</td>\n",
       "      <td>326.89</td>\n",
       "      <td>657.21</td>\n",
       "      <td>6,590,300</td>\n",
       "    </tr>\n",
       "    <tr>\n",
       "      <th>3</th>\n",
       "      <td>1/6/2012</td>\n",
       "      <td>328.34</td>\n",
       "      <td>328.77</td>\n",
       "      <td>323.68</td>\n",
       "      <td>648.24</td>\n",
       "      <td>5,405,900</td>\n",
       "    </tr>\n",
       "    <tr>\n",
       "      <th>4</th>\n",
       "      <td>1/9/2012</td>\n",
       "      <td>322.04</td>\n",
       "      <td>322.29</td>\n",
       "      <td>309.46</td>\n",
       "      <td>620.76</td>\n",
       "      <td>11,688,800</td>\n",
       "    </tr>\n",
       "    <tr>\n",
       "      <th>...</th>\n",
       "      <td>...</td>\n",
       "      <td>...</td>\n",
       "      <td>...</td>\n",
       "      <td>...</td>\n",
       "      <td>...</td>\n",
       "      <td>...</td>\n",
       "    </tr>\n",
       "    <tr>\n",
       "      <th>1253</th>\n",
       "      <td>12/23/2016</td>\n",
       "      <td>790.90</td>\n",
       "      <td>792.74</td>\n",
       "      <td>787.28</td>\n",
       "      <td>789.91</td>\n",
       "      <td>623,400</td>\n",
       "    </tr>\n",
       "    <tr>\n",
       "      <th>1254</th>\n",
       "      <td>12/27/2016</td>\n",
       "      <td>790.68</td>\n",
       "      <td>797.86</td>\n",
       "      <td>787.66</td>\n",
       "      <td>791.55</td>\n",
       "      <td>789,100</td>\n",
       "    </tr>\n",
       "    <tr>\n",
       "      <th>1255</th>\n",
       "      <td>12/28/2016</td>\n",
       "      <td>793.70</td>\n",
       "      <td>794.23</td>\n",
       "      <td>783.20</td>\n",
       "      <td>785.05</td>\n",
       "      <td>1,153,800</td>\n",
       "    </tr>\n",
       "    <tr>\n",
       "      <th>1256</th>\n",
       "      <td>12/29/2016</td>\n",
       "      <td>783.33</td>\n",
       "      <td>785.93</td>\n",
       "      <td>778.92</td>\n",
       "      <td>782.79</td>\n",
       "      <td>744,300</td>\n",
       "    </tr>\n",
       "    <tr>\n",
       "      <th>1257</th>\n",
       "      <td>12/30/2016</td>\n",
       "      <td>782.75</td>\n",
       "      <td>782.78</td>\n",
       "      <td>770.41</td>\n",
       "      <td>771.82</td>\n",
       "      <td>1,770,000</td>\n",
       "    </tr>\n",
       "  </tbody>\n",
       "</table>\n",
       "<p>1258 rows × 6 columns</p>\n",
       "</div>"
      ],
      "text/plain": [
       "            Date    Open    High     Low   Close      Volume\n",
       "0       1/3/2012  325.25  332.83  324.97  663.59   7,380,500\n",
       "1       1/4/2012  331.27  333.87  329.08  666.45   5,749,400\n",
       "2       1/5/2012  329.83  330.75  326.89  657.21   6,590,300\n",
       "3       1/6/2012  328.34  328.77  323.68  648.24   5,405,900\n",
       "4       1/9/2012  322.04  322.29  309.46  620.76  11,688,800\n",
       "...          ...     ...     ...     ...     ...         ...\n",
       "1253  12/23/2016  790.90  792.74  787.28  789.91     623,400\n",
       "1254  12/27/2016  790.68  797.86  787.66  791.55     789,100\n",
       "1255  12/28/2016  793.70  794.23  783.20  785.05   1,153,800\n",
       "1256  12/29/2016  783.33  785.93  778.92  782.79     744,300\n",
       "1257  12/30/2016  782.75  782.78  770.41  771.82   1,770,000\n",
       "\n",
       "[1258 rows x 6 columns]"
      ]
     },
     "execution_count": 44,
     "metadata": {},
     "output_type": "execute_result"
    }
   ],
   "source": [
    "# import training set\n",
    "training_set=pd.read_csv('Google_Stock_Price_Train.csv')\n",
    "training_set"
   ]
  },
  {
   "cell_type": "code",
   "execution_count": 45,
   "id": "981b4351",
   "metadata": {},
   "outputs": [],
   "source": [
    "training_set=training_set.iloc[:,1:2].values"
   ]
  },
  {
   "cell_type": "code",
   "execution_count": 46,
   "id": "d7b5cb89",
   "metadata": {},
   "outputs": [
    {
     "data": {
      "text/plain": [
       "array([[325.25],\n",
       "       [331.27],\n",
       "       [329.83],\n",
       "       ...,\n",
       "       [793.7 ],\n",
       "       [783.33],\n",
       "       [782.75]])"
      ]
     },
     "execution_count": 46,
     "metadata": {},
     "output_type": "execute_result"
    }
   ],
   "source": [
    "training_set"
   ]
  },
  {
   "cell_type": "code",
   "execution_count": 47,
   "id": "b37c8b51",
   "metadata": {},
   "outputs": [
    {
     "data": {
      "text/plain": [
       "array([[325.25],\n",
       "       [331.27],\n",
       "       [329.83],\n",
       "       ...,\n",
       "       [793.7 ],\n",
       "       [783.33],\n",
       "       [782.75]])"
      ]
     },
     "execution_count": 47,
     "metadata": {},
     "output_type": "execute_result"
    }
   ],
   "source": [
    "training_set"
   ]
  },
  {
   "cell_type": "raw",
   "id": "18130d87",
   "metadata": {},
   "source": [
    "# MinMaxScaler transform the dataset into the range of (0,1). Here is formula below\n",
    "# X_std = (X - X.min(axis=0)) / (X.max(axis=0) - X.min(axis=0))\n",
    "# X_scaled = X_std * (max - min) + min"
   ]
  },
  {
   "cell_type": "code",
   "execution_count": 48,
   "id": "5cac2f08",
   "metadata": {},
   "outputs": [],
   "source": [
    "# feature Scaling\n",
    "from sklearn.preprocessing import MinMaxScaler\n",
    "sc= MinMaxScaler()\n",
    "training_set=sc.fit_transform(training_set)"
   ]
  },
  {
   "cell_type": "code",
   "execution_count": 49,
   "id": "9d8ecb2e",
   "metadata": {},
   "outputs": [],
   "source": [
    "# Getting the input and output\n",
    "X_train= training_set[0:1257]\n",
    "y_train= training_set[1:1258]"
   ]
  },
  {
   "cell_type": "code",
   "execution_count": 50,
   "id": "61657d4c",
   "metadata": {},
   "outputs": [
    {
     "data": {
      "text/plain": [
       "array([[0.08581368],\n",
       "       [0.09701243],\n",
       "       [0.09433366],\n",
       "       ...,\n",
       "       [0.95163331],\n",
       "       [0.95725128],\n",
       "       [0.93796041]])"
      ]
     },
     "execution_count": 50,
     "metadata": {},
     "output_type": "execute_result"
    }
   ],
   "source": [
    "X_train"
   ]
  },
  {
   "cell_type": "code",
   "execution_count": 51,
   "id": "8ffa79f6",
   "metadata": {},
   "outputs": [
    {
     "data": {
      "text/plain": [
       "array([[0.09701243],\n",
       "       [0.09433366],\n",
       "       [0.09156187],\n",
       "       ...,\n",
       "       [0.95725128],\n",
       "       [0.93796041],\n",
       "       [0.93688146]])"
      ]
     },
     "execution_count": 51,
     "metadata": {},
     "output_type": "execute_result"
    }
   ],
   "source": [
    "y_train"
   ]
  },
  {
   "cell_type": "code",
   "execution_count": 52,
   "id": "477273a0",
   "metadata": {},
   "outputs": [],
   "source": [
    "# Reshaping\n",
    "X_train=np.reshape(X_train, (1257 , 1 , 1))"
   ]
  },
  {
   "cell_type": "markdown",
   "id": "241cfefc",
   "metadata": {},
   "source": [
    "#### Part 2: Building the RNN"
   ]
  },
  {
   "cell_type": "code",
   "execution_count": 53,
   "id": "019e5436",
   "metadata": {},
   "outputs": [],
   "source": [
    "# importing the Keras libraries and Packages\n",
    "from tensorflow import keras\n",
    "from keras.models import Sequential\n",
    "from keras.layers import Dense\n",
    "from keras.layers import LSTM"
   ]
  },
  {
   "cell_type": "code",
   "execution_count": 54,
   "id": "21c88c47",
   "metadata": {},
   "outputs": [],
   "source": [
    "# initialize the RNN\n",
    "regressor = Sequential() "
   ]
  },
  {
   "cell_type": "code",
   "execution_count": 55,
   "id": "a2bcc18d",
   "metadata": {},
   "outputs": [],
   "source": [
    "# adding the input layer and LSTM layer\n",
    "regressor.add(LSTM(units=4, activation= 'sigmoid', input_shape= (None,1)))"
   ]
  },
  {
   "cell_type": "code",
   "execution_count": 56,
   "id": "b6989b57",
   "metadata": {},
   "outputs": [],
   "source": [
    "# adding the output layer\n",
    "regressor.add(Dense( units=1 ))"
   ]
  },
  {
   "cell_type": "code",
   "execution_count": 57,
   "id": "6f9e2490",
   "metadata": {},
   "outputs": [],
   "source": [
    "# compiling the RNN\n",
    "regressor.compile(optimizer='adam', loss='mean_squared_error')"
   ]
  },
  {
   "cell_type": "code",
   "execution_count": 58,
   "id": "d5fcac5a",
   "metadata": {},
   "outputs": [
    {
     "name": "stdout",
     "output_type": "stream",
     "text": [
      "Epoch 1/200\n",
      "40/40 [==============================] - 5s 5ms/step - loss: 0.0764\n",
      "Epoch 2/200\n",
      "40/40 [==============================] - 0s 4ms/step - loss: 0.0671\n",
      "Epoch 3/200\n",
      "40/40 [==============================] - 0s 4ms/step - loss: 0.0636\n",
      "Epoch 4/200\n",
      "40/40 [==============================] - 0s 4ms/step - loss: 0.0612\n",
      "Epoch 5/200\n",
      "40/40 [==============================] - 0s 4ms/step - loss: 0.0590\n",
      "Epoch 6/200\n",
      "40/40 [==============================] - 0s 4ms/step - loss: 0.0569\n",
      "Epoch 7/200\n",
      "40/40 [==============================] - 0s 5ms/step - loss: 0.0548\n",
      "Epoch 8/200\n",
      "40/40 [==============================] - 0s 4ms/step - loss: 0.0526\n",
      "Epoch 9/200\n",
      "40/40 [==============================] - 0s 4ms/step - loss: 0.0505\n",
      "Epoch 10/200\n",
      "40/40 [==============================] - 0s 4ms/step - loss: 0.0482\n",
      "Epoch 11/200\n",
      "40/40 [==============================] - 0s 4ms/step - loss: 0.0459\n",
      "Epoch 12/200\n",
      "40/40 [==============================] - 0s 4ms/step - loss: 0.0436\n",
      "Epoch 13/200\n",
      "40/40 [==============================] - 0s 4ms/step - loss: 0.0412\n",
      "Epoch 14/200\n",
      "40/40 [==============================] - 0s 7ms/step - loss: 0.0388\n",
      "Epoch 15/200\n",
      "40/40 [==============================] - 0s 8ms/step - loss: 0.0362\n",
      "Epoch 16/200\n",
      "40/40 [==============================] - 0s 7ms/step - loss: 0.0337\n",
      "Epoch 17/200\n",
      "40/40 [==============================] - 0s 7ms/step - loss: 0.0311\n",
      "Epoch 18/200\n",
      "40/40 [==============================] - 0s 5ms/step - loss: 0.0286\n",
      "Epoch 19/200\n",
      "40/40 [==============================] - 0s 5ms/step - loss: 0.0260\n",
      "Epoch 20/200\n",
      "40/40 [==============================] - 0s 5ms/step - loss: 0.0235\n",
      "Epoch 21/200\n",
      "40/40 [==============================] - 0s 4ms/step - loss: 0.0211\n",
      "Epoch 22/200\n",
      "40/40 [==============================] - 0s 4ms/step - loss: 0.0188\n",
      "Epoch 23/200\n",
      "40/40 [==============================] - 0s 5ms/step - loss: 0.0165\n",
      "Epoch 24/200\n",
      "40/40 [==============================] - 0s 4ms/step - loss: 0.0144\n",
      "Epoch 25/200\n",
      "40/40 [==============================] - 0s 4ms/step - loss: 0.0125\n",
      "Epoch 26/200\n",
      "40/40 [==============================] - 0s 4ms/step - loss: 0.0107\n",
      "Epoch 27/200\n",
      "40/40 [==============================] - 0s 4ms/step - loss: 0.0090\n",
      "Epoch 28/200\n",
      "40/40 [==============================] - 0s 4ms/step - loss: 0.0076\n",
      "Epoch 29/200\n",
      "40/40 [==============================] - 0s 4ms/step - loss: 0.0063\n",
      "Epoch 30/200\n",
      "40/40 [==============================] - 0s 4ms/step - loss: 0.0052\n",
      "Epoch 31/200\n",
      "40/40 [==============================] - 0s 4ms/step - loss: 0.0042\n",
      "Epoch 32/200\n",
      "40/40 [==============================] - 0s 4ms/step - loss: 0.0034\n",
      "Epoch 33/200\n",
      "40/40 [==============================] - 0s 4ms/step - loss: 0.0028\n",
      "Epoch 34/200\n",
      "40/40 [==============================] - 0s 4ms/step - loss: 0.0022\n",
      "Epoch 35/200\n",
      "40/40 [==============================] - 0s 4ms/step - loss: 0.0017\n",
      "Epoch 36/200\n",
      "40/40 [==============================] - 0s 4ms/step - loss: 0.0014\n",
      "Epoch 37/200\n",
      "40/40 [==============================] - 0s 7ms/step - loss: 0.0011\n",
      "Epoch 38/200\n",
      "40/40 [==============================] - 0s 5ms/step - loss: 8.6885e-04\n",
      "Epoch 39/200\n",
      "40/40 [==============================] - 0s 4ms/step - loss: 6.9923e-04\n",
      "Epoch 40/200\n",
      "40/40 [==============================] - 0s 5ms/step - loss: 5.7716e-04\n",
      "Epoch 41/200\n",
      "40/40 [==============================] - 0s 5ms/step - loss: 4.8157e-04\n",
      "Epoch 42/200\n",
      "40/40 [==============================] - 0s 4ms/step - loss: 4.1417e-04\n",
      "Epoch 43/200\n",
      "40/40 [==============================] - 0s 5ms/step - loss: 3.6542e-04\n",
      "Epoch 44/200\n",
      "40/40 [==============================] - 0s 6ms/step - loss: 3.3118e-04\n",
      "Epoch 45/200\n",
      "40/40 [==============================] - 0s 8ms/step - loss: 3.0651e-04\n",
      "Epoch 46/200\n",
      "40/40 [==============================] - 0s 8ms/step - loss: 2.8955e-04\n",
      "Epoch 47/200\n",
      "40/40 [==============================] - 0s 8ms/step - loss: 2.7891e-04\n",
      "Epoch 48/200\n",
      "40/40 [==============================] - 0s 7ms/step - loss: 2.7190e-04\n",
      "Epoch 49/200\n",
      "40/40 [==============================] - 0s 4ms/step - loss: 2.6600e-04\n",
      "Epoch 50/200\n",
      "40/40 [==============================] - 0s 4ms/step - loss: 2.6260e-04\n",
      "Epoch 51/200\n",
      "40/40 [==============================] - 0s 4ms/step - loss: 2.5934e-04\n",
      "Epoch 52/200\n",
      "40/40 [==============================] - 0s 4ms/step - loss: 2.6192e-04\n",
      "Epoch 53/200\n",
      "40/40 [==============================] - 0s 4ms/step - loss: 2.5820e-04\n",
      "Epoch 54/200\n",
      "40/40 [==============================] - 0s 4ms/step - loss: 2.5664e-04\n",
      "Epoch 55/200\n",
      "40/40 [==============================] - 0s 4ms/step - loss: 2.5658e-04\n",
      "Epoch 56/200\n",
      "40/40 [==============================] - 0s 4ms/step - loss: 2.5677e-04\n",
      "Epoch 57/200\n",
      "40/40 [==============================] - 0s 4ms/step - loss: 2.5539e-04\n",
      "Epoch 58/200\n",
      "40/40 [==============================] - 0s 4ms/step - loss: 2.5595e-04\n",
      "Epoch 59/200\n",
      "40/40 [==============================] - 0s 4ms/step - loss: 2.5560e-04\n",
      "Epoch 60/200\n",
      "40/40 [==============================] - 0s 4ms/step - loss: 2.5585e-04\n",
      "Epoch 61/200\n",
      "40/40 [==============================] - 0s 4ms/step - loss: 2.5573e-04\n",
      "Epoch 62/200\n",
      "40/40 [==============================] - 0s 4ms/step - loss: 2.5639e-04\n",
      "Epoch 63/200\n",
      "40/40 [==============================] - 0s 4ms/step - loss: 2.5661e-04\n",
      "Epoch 64/200\n",
      "40/40 [==============================] - 0s 6ms/step - loss: 2.5542e-04\n",
      "Epoch 65/200\n",
      "40/40 [==============================] - 0s 6ms/step - loss: 2.5611e-04\n",
      "Epoch 66/200\n",
      "40/40 [==============================] - 0s 6ms/step - loss: 2.5523e-04\n",
      "Epoch 67/200\n",
      "40/40 [==============================] - 0s 4ms/step - loss: 2.5699e-04\n",
      "Epoch 68/200\n",
      "40/40 [==============================] - 0s 4ms/step - loss: 2.5548e-04\n",
      "Epoch 69/200\n",
      "40/40 [==============================] - 0s 5ms/step - loss: 2.5534e-04\n",
      "Epoch 70/200\n",
      "40/40 [==============================] - 0s 5ms/step - loss: 2.5520e-04\n",
      "Epoch 71/200\n",
      "40/40 [==============================] - 0s 4ms/step - loss: 2.5538e-04\n",
      "Epoch 72/200\n",
      "40/40 [==============================] - 0s 4ms/step - loss: 2.5518e-04\n",
      "Epoch 73/200\n",
      "40/40 [==============================] - 0s 4ms/step - loss: 2.5564e-04\n",
      "Epoch 74/200\n",
      "40/40 [==============================] - 0s 5ms/step - loss: 2.5464e-04\n",
      "Epoch 75/200\n",
      "40/40 [==============================] - 0s 6ms/step - loss: 2.5618e-04\n",
      "Epoch 76/200\n",
      "40/40 [==============================] - 0s 7ms/step - loss: 2.5624e-04\n",
      "Epoch 77/200\n",
      "40/40 [==============================] - 0s 8ms/step - loss: 2.5653e-04\n",
      "Epoch 78/200\n",
      "40/40 [==============================] - 0s 7ms/step - loss: 2.5531e-04\n",
      "Epoch 79/200\n",
      "40/40 [==============================] - 0s 7ms/step - loss: 2.5732e-04\n",
      "Epoch 80/200\n",
      "40/40 [==============================] - 0s 6ms/step - loss: 2.5571e-04\n",
      "Epoch 81/200\n",
      "40/40 [==============================] - 0s 4ms/step - loss: 2.5555e-04\n",
      "Epoch 82/200\n",
      "40/40 [==============================] - 0s 4ms/step - loss: 2.5713e-04\n",
      "Epoch 83/200\n",
      "40/40 [==============================] - 0s 5ms/step - loss: 2.5470e-04\n",
      "Epoch 84/200\n",
      "40/40 [==============================] - 0s 6ms/step - loss: 2.5697e-04\n",
      "Epoch 85/200\n",
      "40/40 [==============================] - 0s 5ms/step - loss: 2.5480e-04\n",
      "Epoch 86/200\n",
      "40/40 [==============================] - 0s 5ms/step - loss: 2.5486e-04\n",
      "Epoch 87/200\n",
      "40/40 [==============================] - 0s 5ms/step - loss: 2.5788e-04\n",
      "Epoch 88/200\n",
      "40/40 [==============================] - 0s 6ms/step - loss: 2.5506e-04\n",
      "Epoch 89/200\n",
      "40/40 [==============================] - 0s 4ms/step - loss: 2.5519e-04\n",
      "Epoch 90/200\n",
      "40/40 [==============================] - 0s 4ms/step - loss: 2.5562e-04\n",
      "Epoch 91/200\n",
      "40/40 [==============================] - 0s 4ms/step - loss: 2.5465e-04\n",
      "Epoch 92/200\n",
      "40/40 [==============================] - 0s 4ms/step - loss: 2.5711e-04\n",
      "Epoch 93/200\n",
      "40/40 [==============================] - 0s 5ms/step - loss: 2.5699e-04\n",
      "Epoch 94/200\n",
      "40/40 [==============================] - 0s 4ms/step - loss: 2.5555e-04\n",
      "Epoch 95/200\n",
      "40/40 [==============================] - 0s 4ms/step - loss: 2.5631e-04\n",
      "Epoch 96/200\n",
      "40/40 [==============================] - 0s 5ms/step - loss: 2.5479e-04\n",
      "Epoch 97/200\n",
      "40/40 [==============================] - 0s 4ms/step - loss: 2.5529e-04\n",
      "Epoch 98/200\n",
      "40/40 [==============================] - 0s 4ms/step - loss: 2.5605e-04\n",
      "Epoch 99/200\n"
     ]
    },
    {
     "name": "stdout",
     "output_type": "stream",
     "text": [
      "40/40 [==============================] - 0s 4ms/step - loss: 2.5510e-04\n",
      "Epoch 100/200\n",
      "40/40 [==============================] - 0s 4ms/step - loss: 2.5464e-04\n",
      "Epoch 101/200\n",
      "40/40 [==============================] - 0s 4ms/step - loss: 2.6362e-04\n",
      "Epoch 102/200\n",
      "40/40 [==============================] - 0s 4ms/step - loss: 2.5775e-04\n",
      "Epoch 103/200\n",
      "40/40 [==============================] - 0s 5ms/step - loss: 2.5464e-04\n",
      "Epoch 104/200\n",
      "40/40 [==============================] - 0s 4ms/step - loss: 2.5600e-04\n",
      "Epoch 105/200\n",
      "40/40 [==============================] - 0s 4ms/step - loss: 2.5627e-04\n",
      "Epoch 106/200\n",
      "40/40 [==============================] - 0s 4ms/step - loss: 2.5662e-04\n",
      "Epoch 107/200\n",
      "40/40 [==============================] - 0s 5ms/step - loss: 2.5623e-04\n",
      "Epoch 108/200\n",
      "40/40 [==============================] - 0s 8ms/step - loss: 2.5533e-04\n",
      "Epoch 109/200\n",
      "40/40 [==============================] - 0s 8ms/step - loss: 2.5657e-04\n",
      "Epoch 110/200\n",
      "40/40 [==============================] - 0s 7ms/step - loss: 2.5713e-04\n",
      "Epoch 111/200\n",
      "40/40 [==============================] - 0s 5ms/step - loss: 2.5457e-04\n",
      "Epoch 112/200\n",
      "40/40 [==============================] - 0s 4ms/step - loss: 2.6246e-04\n",
      "Epoch 113/200\n",
      "40/40 [==============================] - 0s 4ms/step - loss: 2.5898e-04\n",
      "Epoch 114/200\n",
      "40/40 [==============================] - 0s 4ms/step - loss: 2.5682e-04\n",
      "Epoch 115/200\n",
      "40/40 [==============================] - 0s 4ms/step - loss: 2.5592e-04\n",
      "Epoch 116/200\n",
      "40/40 [==============================] - 0s 4ms/step - loss: 2.5468e-04\n",
      "Epoch 117/200\n",
      "40/40 [==============================] - 0s 4ms/step - loss: 2.5433e-04\n",
      "Epoch 118/200\n",
      "40/40 [==============================] - 0s 4ms/step - loss: 2.5647e-04\n",
      "Epoch 119/200\n",
      "40/40 [==============================] - 0s 4ms/step - loss: 2.5427e-04\n",
      "Epoch 120/200\n",
      "40/40 [==============================] - 0s 4ms/step - loss: 2.5533e-04\n",
      "Epoch 121/200\n",
      "40/40 [==============================] - 0s 4ms/step - loss: 2.5771e-04\n",
      "Epoch 122/200\n",
      "40/40 [==============================] - 0s 4ms/step - loss: 2.5665e-04\n",
      "Epoch 123/200\n",
      "40/40 [==============================] - 0s 4ms/step - loss: 2.5446e-04\n",
      "Epoch 124/200\n",
      "40/40 [==============================] - 0s 4ms/step - loss: 2.5770e-04\n",
      "Epoch 125/200\n",
      "40/40 [==============================] - 0s 4ms/step - loss: 2.6237e-04\n",
      "Epoch 126/200\n",
      "40/40 [==============================] - 0s 5ms/step - loss: 2.5505e-04\n",
      "Epoch 127/200\n",
      "40/40 [==============================] - 0s 5ms/step - loss: 2.5650e-04\n",
      "Epoch 128/200\n",
      "40/40 [==============================] - 0s 7ms/step - loss: 2.5560e-04\n",
      "Epoch 129/200\n",
      "40/40 [==============================] - 0s 5ms/step - loss: 2.5770e-04\n",
      "Epoch 130/200\n",
      "40/40 [==============================] - 0s 6ms/step - loss: 2.5820e-04\n",
      "Epoch 131/200\n",
      "40/40 [==============================] - 0s 5ms/step - loss: 2.5897e-04\n",
      "Epoch 132/200\n",
      "40/40 [==============================] - 0s 5ms/step - loss: 2.5466e-04\n",
      "Epoch 133/200\n",
      "40/40 [==============================] - 0s 4ms/step - loss: 2.6556e-04\n",
      "Epoch 134/200\n",
      "40/40 [==============================] - 0s 5ms/step - loss: 2.5412e-04\n",
      "Epoch 135/200\n",
      "40/40 [==============================] - 0s 4ms/step - loss: 2.5483e-04\n",
      "Epoch 136/200\n",
      "40/40 [==============================] - 0s 5ms/step - loss: 2.6013e-04\n",
      "Epoch 137/200\n",
      "40/40 [==============================] - 0s 6ms/step - loss: 2.6033e-04\n",
      "Epoch 138/200\n",
      "40/40 [==============================] - 0s 9ms/step - loss: 2.5518e-04\n",
      "Epoch 139/200\n",
      "40/40 [==============================] - 0s 8ms/step - loss: 2.5684e-04\n",
      "Epoch 140/200\n",
      "40/40 [==============================] - 0s 7ms/step - loss: 2.5803e-04\n",
      "Epoch 141/200\n",
      "40/40 [==============================] - 0s 8ms/step - loss: 2.5519e-04\n",
      "Epoch 142/200\n",
      "40/40 [==============================] - 0s 6ms/step - loss: 2.5505e-04\n",
      "Epoch 143/200\n",
      "40/40 [==============================] - 0s 5ms/step - loss: 2.5578e-04\n",
      "Epoch 144/200\n",
      "40/40 [==============================] - 0s 5ms/step - loss: 2.5730e-04\n",
      "Epoch 145/200\n",
      "40/40 [==============================] - 0s 5ms/step - loss: 2.5911e-04\n",
      "Epoch 146/200\n",
      "40/40 [==============================] - 0s 5ms/step - loss: 2.5999e-04\n",
      "Epoch 147/200\n",
      "40/40 [==============================] - 0s 5ms/step - loss: 2.5661e-04\n",
      "Epoch 148/200\n",
      "40/40 [==============================] - 0s 5ms/step - loss: 2.5795e-04\n",
      "Epoch 149/200\n",
      "40/40 [==============================] - 0s 5ms/step - loss: 2.6225e-04\n",
      "Epoch 150/200\n",
      "40/40 [==============================] - 0s 4ms/step - loss: 2.5551e-04\n",
      "Epoch 151/200\n",
      "40/40 [==============================] - 0s 5ms/step - loss: 2.5556e-04\n",
      "Epoch 152/200\n",
      "40/40 [==============================] - 0s 5ms/step - loss: 2.5948e-04\n",
      "Epoch 153/200\n",
      "40/40 [==============================] - 0s 8ms/step - loss: 2.5477e-04\n",
      "Epoch 154/200\n",
      "40/40 [==============================] - 0s 5ms/step - loss: 2.5470e-04\n",
      "Epoch 155/200\n",
      "40/40 [==============================] - 0s 5ms/step - loss: 2.5423e-04\n",
      "Epoch 156/200\n",
      "40/40 [==============================] - 0s 6ms/step - loss: 2.5747e-04\n",
      "Epoch 157/200\n",
      "40/40 [==============================] - 0s 6ms/step - loss: 2.5606e-04\n",
      "Epoch 158/200\n",
      "40/40 [==============================] - 0s 6ms/step - loss: 2.5881e-04\n",
      "Epoch 159/200\n",
      "40/40 [==============================] - 0s 7ms/step - loss: 2.6226e-04\n",
      "Epoch 160/200\n",
      "40/40 [==============================] - 0s 5ms/step - loss: 2.5758e-04\n",
      "Epoch 161/200\n",
      "40/40 [==============================] - 0s 5ms/step - loss: 2.5475e-04\n",
      "Epoch 162/200\n",
      "40/40 [==============================] - 0s 5ms/step - loss: 2.5469e-04\n",
      "Epoch 163/200\n",
      "40/40 [==============================] - 0s 5ms/step - loss: 2.5744e-04\n",
      "Epoch 164/200\n",
      "40/40 [==============================] - 0s 8ms/step - loss: 2.5721e-04\n",
      "Epoch 165/200\n",
      "40/40 [==============================] - 0s 8ms/step - loss: 2.5422e-04\n",
      "Epoch 166/200\n",
      "40/40 [==============================] - 0s 8ms/step - loss: 2.5468e-04\n",
      "Epoch 167/200\n",
      "40/40 [==============================] - 0s 7ms/step - loss: 2.5734e-04\n",
      "Epoch 168/200\n",
      "40/40 [==============================] - 0s 6ms/step - loss: 2.5516e-04\n",
      "Epoch 169/200\n",
      "40/40 [==============================] - 0s 6ms/step - loss: 2.5861e-04\n",
      "Epoch 170/200\n",
      "40/40 [==============================] - 0s 5ms/step - loss: 2.5485e-04\n",
      "Epoch 171/200\n",
      "40/40 [==============================] - 0s 5ms/step - loss: 2.6087e-04\n",
      "Epoch 172/200\n",
      "40/40 [==============================] - 0s 5ms/step - loss: 2.5683e-04\n",
      "Epoch 173/200\n",
      "40/40 [==============================] - 0s 5ms/step - loss: 2.5513e-04\n",
      "Epoch 174/200\n",
      "40/40 [==============================] - 0s 5ms/step - loss: 2.5715e-04\n",
      "Epoch 175/200\n",
      "40/40 [==============================] - 0s 5ms/step - loss: 2.5536e-04\n",
      "Epoch 176/200\n",
      "40/40 [==============================] - 0s 5ms/step - loss: 2.5611e-04\n",
      "Epoch 177/200\n",
      "40/40 [==============================] - 0s 5ms/step - loss: 2.5919e-04\n",
      "Epoch 178/200\n",
      "40/40 [==============================] - 0s 5ms/step - loss: 2.5450e-04\n",
      "Epoch 179/200\n",
      "40/40 [==============================] - 0s 5ms/step - loss: 2.5601e-04\n",
      "Epoch 180/200\n",
      "40/40 [==============================] - 0s 5ms/step - loss: 2.5547e-04\n",
      "Epoch 181/200\n",
      "40/40 [==============================] - 0s 6ms/step - loss: 2.6003e-04\n",
      "Epoch 182/200\n",
      "40/40 [==============================] - 0s 5ms/step - loss: 2.5504e-04\n",
      "Epoch 183/200\n",
      "40/40 [==============================] - 0s 5ms/step - loss: 2.5577e-04\n",
      "Epoch 184/200\n",
      "40/40 [==============================] - 0s 5ms/step - loss: 2.5410e-04\n",
      "Epoch 185/200\n",
      "40/40 [==============================] - 0s 5ms/step - loss: 2.5588e-04\n",
      "Epoch 186/200\n",
      "40/40 [==============================] - 0s 5ms/step - loss: 2.5356e-04\n",
      "Epoch 187/200\n",
      "40/40 [==============================] - 0s 6ms/step - loss: 2.5467e-04\n",
      "Epoch 188/200\n",
      "40/40 [==============================] - 0s 5ms/step - loss: 2.5911e-04\n",
      "Epoch 189/200\n",
      "40/40 [==============================] - 0s 5ms/step - loss: 2.6138e-04\n",
      "Epoch 190/200\n",
      "40/40 [==============================] - 0s 5ms/step - loss: 2.6194e-04\n",
      "Epoch 191/200\n",
      "40/40 [==============================] - 0s 7ms/step - loss: 2.5945e-04\n",
      "Epoch 192/200\n",
      "40/40 [==============================] - 0s 8ms/step - loss: 2.6220e-04\n",
      "Epoch 193/200\n",
      "40/40 [==============================] - 0s 8ms/step - loss: 2.5755e-04\n",
      "Epoch 194/200\n"
     ]
    },
    {
     "name": "stdout",
     "output_type": "stream",
     "text": [
      "40/40 [==============================] - 0s 9ms/step - loss: 2.5638e-04\n",
      "Epoch 195/200\n",
      "40/40 [==============================] - 0s 7ms/step - loss: 2.5520e-04\n",
      "Epoch 196/200\n",
      "40/40 [==============================] - 0s 5ms/step - loss: 2.5862e-04\n",
      "Epoch 197/200\n",
      "40/40 [==============================] - 0s 4ms/step - loss: 2.5603e-04\n",
      "Epoch 198/200\n",
      "40/40 [==============================] - 0s 5ms/step - loss: 2.5467e-04\n",
      "Epoch 199/200\n",
      "40/40 [==============================] - 0s 4ms/step - loss: 2.5497e-04\n",
      "Epoch 200/200\n",
      "40/40 [==============================] - 0s 5ms/step - loss: 2.5476e-04\n"
     ]
    },
    {
     "data": {
      "text/plain": [
       "<keras.callbacks.History at 0x20b6f8fa070>"
      ]
     },
     "execution_count": 58,
     "metadata": {},
     "output_type": "execute_result"
    }
   ],
   "source": [
    "# fitting the RNN to the training set\n",
    "regressor.fit(X_train, y_train, batch_size=32, epochs=200)"
   ]
  },
  {
   "cell_type": "markdown",
   "id": "ff3885fe",
   "metadata": {},
   "source": [
    "#### Part 3: Making the Prediction and Visulising the result"
   ]
  },
  {
   "cell_type": "code",
   "execution_count": 59,
   "id": "517a55bd",
   "metadata": {},
   "outputs": [],
   "source": [
    "# Geting the real stock price of 2017\n",
    "test_set = pd.read_csv('Google_Stock_Price_Test.csv')\n",
    "real_stock_price = test_set.iloc[:,1:2].values"
   ]
  },
  {
   "cell_type": "code",
   "execution_count": 60,
   "id": "323cc1b3",
   "metadata": {},
   "outputs": [
    {
     "data": {
      "text/plain": [
       "(20, 1)"
      ]
     },
     "execution_count": 60,
     "metadata": {},
     "output_type": "execute_result"
    }
   ],
   "source": [
    "real_stock_price.shape"
   ]
  },
  {
   "cell_type": "code",
   "execution_count": 61,
   "id": "beb0ce39",
   "metadata": {},
   "outputs": [],
   "source": [
    "# Geting the Predicted Stock Price of 2017\n",
    "inputs = real_stock_price"
   ]
  },
  {
   "cell_type": "code",
   "execution_count": 62,
   "id": "81bd1130",
   "metadata": {},
   "outputs": [],
   "source": [
    "inputs = sc.transform(inputs)"
   ]
  },
  {
   "cell_type": "code",
   "execution_count": 63,
   "id": "f1314e0e",
   "metadata": {},
   "outputs": [],
   "source": [
    "inputs = np.reshape(inputs, (20 , 1, 1))"
   ]
  },
  {
   "cell_type": "code",
   "execution_count": 64,
   "id": "158ac980",
   "metadata": {},
   "outputs": [
    {
     "name": "stdout",
     "output_type": "stream",
     "text": [
      "1/1 [==============================] - 0s 493ms/step\n"
     ]
    }
   ],
   "source": [
    "predicted_stock_price = regressor.predict(inputs)"
   ]
  },
  {
   "cell_type": "code",
   "execution_count": 65,
   "id": "f1037adf",
   "metadata": {},
   "outputs": [
    {
     "data": {
      "text/plain": [
       "array([[0.92200166],\n",
       "       [0.937965  ],\n",
       "       [0.9341683 ],\n",
       "       [0.94939893],\n",
       "       [0.9676786 ],\n",
       "       [0.9700578 ],\n",
       "       [0.9653937 ],\n",
       "       [0.96888477],\n",
       "       [0.96943885],\n",
       "       [0.96878725],\n",
       "       [0.9667161 ],\n",
       "       [0.9655898 ],\n",
       "       [0.9685102 ],\n",
       "       [0.9690642 ],\n",
       "       [0.9933762 ],\n",
       "       [1.005048  ],\n",
       "       [1.0179873 ],\n",
       "       [1.0131049 ],\n",
       "       [0.9810868 ],\n",
       "       [0.952038  ]], dtype=float32)"
      ]
     },
     "execution_count": 65,
     "metadata": {},
     "output_type": "execute_result"
    }
   ],
   "source": [
    "predicted_stock_price "
   ]
  },
  {
   "cell_type": "code",
   "execution_count": 66,
   "id": "a2a03b8c",
   "metadata": {},
   "outputs": [],
   "source": [
    "predicted_stock_price = sc.inverse_transform(predicted_stock_price)"
   ]
  },
  {
   "cell_type": "code",
   "execution_count": 67,
   "id": "ea40118d",
   "metadata": {},
   "outputs": [
    {
     "data": {
      "text/plain": [
       "array([[774.7512 ],\n",
       "       [783.33246],\n",
       "       [781.2915 ],\n",
       "       [789.4789 ],\n",
       "       [799.3053 ],\n",
       "       [800.5843 ],\n",
       "       [798.077  ],\n",
       "       [799.9537 ],\n",
       "       [800.2515 ],\n",
       "       [799.9013 ],\n",
       "       [798.7879 ],\n",
       "       [798.1825 ],\n",
       "       [799.7524 ],\n",
       "       [800.0502 ],\n",
       "       [813.1193 ],\n",
       "       [819.3936 ],\n",
       "       [826.3492 ],\n",
       "       [823.7247 ],\n",
       "       [806.513  ],\n",
       "       [790.8975 ]], dtype=float32)"
      ]
     },
     "execution_count": 67,
     "metadata": {},
     "output_type": "execute_result"
    }
   ],
   "source": [
    "predicted_stock_price"
   ]
  },
  {
   "cell_type": "code",
   "execution_count": 68,
   "id": "7b78b599",
   "metadata": {},
   "outputs": [
    {
     "data": {
      "image/png": "[encoded data removed]",
      "text/plain": [
       "<Figure size 432x288 with 1 Axes>"
      ]
     },
     "metadata": {
      "needs_background": "light"
     },
     "output_type": "display_data"
    }
   ],
   "source": [
    "# Visulising the Result \n",
    "plt.plot( real_stock_price , color = 'red' , label = 'Real Google Stock Price')\n",
    "plt.plot( predicted_stock_price , color = 'blue' , label = 'Predicted Google Stock Price')\n",
    "plt.title('Google Stock Price Prediction')\n",
    "plt.xlabel( 'time' )\n",
    "plt.ylabel( 'Google Stock Price' )\n",
    "plt.legend()\n",
    "plt.show()"
   ]
  },
  {
   "cell_type": "code",
   "execution_count": 70,
   "id": "bfd6d958",
   "metadata": {},
   "outputs": [
    {
     "data": {
      "text/plain": [
       "'2.11.0'"
      ]
     },
     "execution_count": 70,
     "metadata": {},
     "output_type": "execute_result"
    }
   ],
   "source": [
    "import tensorflow\n",
    "tensorflow.__version__"
   ]
  }
 ],
 "metadata": {
  "kernelspec": {
   "display_name": "Python 3 (ipykernel)",
   "language": "python",
   "name": "python3"
  },
  "language_info": {
   "codemirror_mode": {
    "name": "ipython",
    "version": 3
   },
   "file_extension": ".py",
   "mimetype": "text/x-python",
   "name": "python",
   "nbconvert_exporter": "python",
   "pygments_lexer": "ipython3",
   "version": "3.9.12"
  }
 },
 "nbformat": 4,
 "nbformat_minor": 5
}
